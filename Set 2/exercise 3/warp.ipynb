{
 "cells": [
  {
   "cell_type": "markdown",
   "metadata": {},
   "source": [
    "Στην ασκηση 3 ζητειται απο την δοσμενη εικονα, με τους καταλληλους γεωμετρικους μετασχηματισμους, να παραξουμε την εικονα που εμφανιζεται στο παραδειγμα. Παρακατω υπαρχουν σχολια που βοηθανε στην εκτελεση του προγραμματος:"
   ]
  },
  {
   "cell_type": "code",
   "execution_count": 1,
   "metadata": {},
   "outputs": [],
   "source": [
    "# =============================================================================\n",
    "# The 4 points need to be clicked in a clockwise manner on the image\n",
    "# starting from top left and ending at bottom left.\n",
    "# Then press right click to complete the cropping and start\n",
    "# the warping process.\n",
    "# In the end press ESC to exit and terminate the program.\n",
    "#\n",
    "# Help for the calculation of the homography matrix was taken from:\n",
    "# https://math.stackexchange.com/questions/494238/how-to-compute-homography-matrix-h-from-corresponding-points-2d-2d-planar-homog \n",
    "# ============================================================================="
   ]
  },
  {
   "cell_type": "code",
   "execution_count": 2,
   "metadata": {},
   "outputs": [],
   "source": [
    "import numpy as np\n",
    "import cv2 as cv\n",
    "import sys"
   ]
  },
  {
   "cell_type": "code",
   "execution_count": null,
   "metadata": {},
   "outputs": [],
   "source": [
    "#input image is argv[1] and output image is argv[2]\n",
    "input_image = cv.imread(sys.argv[1])\n",
    "points = []"
   ]
  },
  {
   "cell_type": "markdown",
   "metadata": {},
   "source": [
    "Η παρακατω συναρτηση υπολογιζει τον homography matrix που χρειαζεται ως εισοδος στην συυναρτηση που εκτελει τον τελικο μετασχηματισμο:"
   ]
  },
  {
   "cell_type": "code",
   "execution_count": null,
   "metadata": {},
   "outputs": [],
   "source": [
    "def find_homography_matrix(p1, p2):\n",
    "    A = []\n",
    "    for i in range(0,len(p1)):\n",
    "        x, y = p1[i][0], p1[i][1]\n",
    "        u, v = p2[i][0], p2[i][1]\n",
    "        A.append([x, y, 1, 0, 0, 0, -u*x, -u*y, -u])\n",
    "        A.append([0, 0, 0, x, y, 1, -v*x, -v*y, -v])\n",
    "        \n",
    "    A = np.asarray(A)\n",
    "    U, S, VTrans = np.linalg.svd(A)\n",
    "    #divide the VTrans vector with the last element of the VTrans vector\n",
    "    #so we get 1 for h33 but it's not explicitly needed as we can get the\n",
    "    #same result with the code commented below:\n",
    "    L = VTrans[-1] / VTrans[-1,-1]  # Vlast = VTrans[-1]\n",
    "    H = L.reshape(3, 3)             # Vlastreshape = Vlast.reshape(3,3)\n",
    "    return H                        # return Vlastreshape "
   ]
  },
  {
   "cell_type": "markdown",
   "metadata": {},
   "source": [
    "Εδω χειριζομαστε τα clicks του ποντικιου (δεξι η αριστερο). Την συναρτηση την καλει η *cv.setMouseCallback('image', click_event)* παρακατω."
   ]
  },
  {
   "cell_type": "code",
   "execution_count": null,
   "metadata": {},
   "outputs": [],
   "source": [
    "def click_event(event, x, y, flags, param):\n",
    "    global points\n",
    "    if (event == cv.EVENT_LBUTTONDOWN):\n",
    "        points.append((x,y))\n",
    "        #paint the selected points but display them in the final image\n",
    "        #remove the following line if you want\n",
    "        cv.circle(img, (x,y), 8, (255,0,0),-1)\n",
    "        cv.imshow('image', img)\n",
    "    elif (event == cv.EVENT_RBUTTONDOWN):\n",
    "        minx = min(points, key=lambda x: (x[0]))[0]\n",
    "        maxx = max(points, key=lambda x: (x[0]))[0]\n",
    "        miny = min(points, key=lambda x: (x[1]))[1]\n",
    "        maxy = max(points, key=lambda x: (x[1]))[1]        \n",
    "        print('(minx, maxx, miny, maxy):', minx, maxx, miny, maxy)\n",
    "        \n",
    "        size = (1000,1000,3)\n",
    "        im_dst = np.zeros(size,np.uint8)\n",
    "        #size[0] is the width, size[1] is the height, -1 is so we dont go out of image bounds\n",
    "        destination_points = np.array([[0,0], [size[0]-1,0],[size[0]-1,size[1]-1],[0,size[1]-1]],dtype=float)\n",
    "        source_points = np.array([points[0],points[1],points[2],points[3]])\n",
    "        h = find_homography_matrix(source_points,destination_points)\n",
    "        \n",
    "        im_dst = cv.warpPerspective(img, h, (size[1], size[0])) #width,height\n",
    "        cv.imshow('Warped', im_dst)\n",
    "        cv.imwrite(sys.argv[2], im_dst)"
   ]
  },
  {
   "cell_type": "code",
   "execution_count": null,
   "metadata": {},
   "outputs": [],
   "source": [
    "img = cv.imread(sys.argv[1])\n",
    "cv.imshow('image', input_image)\n",
    "\n",
    "cv.setMouseCallback('image', click_event)\n",
    "#Terminate with ESC\n",
    "cv.waitKey(0)\n",
    "cv.destroyAllWindows()"
   ]
  }
 ],
 "metadata": {
  "kernelspec": {
   "display_name": "Python 3",
   "language": "python",
   "name": "python3"
  },
  "language_info": {
   "codemirror_mode": {
    "name": "ipython",
    "version": 3
   },
   "file_extension": ".py",
   "mimetype": "text/x-python",
   "name": "python",
   "nbconvert_exporter": "python",
   "pygments_lexer": "ipython3",
   "version": "3.7.7"
  }
 },
 "nbformat": 4,
 "nbformat_minor": 4
}
