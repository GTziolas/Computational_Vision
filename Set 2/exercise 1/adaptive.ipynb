{
 "cells": [
  {
   "cell_type": "markdown",
   "metadata": {},
   "source": [
    "Στην πρωτη ασκηση μας ζητειται να επεξεργαστουμε το εγγραφο trikoupi_low.png με τον αλγοριθμο otsu. Ο αλγοριθμος θα δεχεται την εικονα και θα την κατωφλιωνει οχι σε ολοκληρο το ευρος της αλλα ανα window_size * window_size γειτονιες."
   ]
  },
  {
   "cell_type": "markdown",
   "metadata": {},
   "source": [
    "Οι βιβλιοθηκες που θα χρειαστουμε:"
   ]
  },
  {
   "cell_type": "code",
   "execution_count": 1,
   "metadata": {},
   "outputs": [],
   "source": [
    "import sys\n",
    "import numpy as np\n",
    "from PIL import Image\n",
    "from math import ceil"
   ]
  },
  {
   "cell_type": "markdown",
   "metadata": {},
   "source": [
    "Τα δεδομενα εισοδου:"
   ]
  },
  {
   "cell_type": "code",
   "execution_count": null,
   "metadata": {},
   "outputs": [],
   "source": [
    "#argv[1] is the input photo\n",
    "#argv[2] is the output photo\n",
    "#argv[3] is the window size\n",
    "input_image = Image.open(sys.argv[1])\n",
    "out_image = sys.argv[2]\n",
    "window_size = int(sys.argv[3])\n",
    "#image as numpy array\n",
    "image_array = np.asarray(input_image)\n",
    "image_array_cp = image_array.copy()\n",
    "images_cropped=[]\n",
    "images=[]\n",
    "\n",
    "width, height = input_image.size\n",
    "print('Dimensions of the image (height,width):', image_array.shape)"
   ]
  },
  {
   "cell_type": "markdown",
   "metadata": {},
   "source": [
    "Η συναρτηση που αποφασιζει αν εχουμε greyscale ή rbg εικονα:"
   ]
  },
  {
   "cell_type": "code",
   "execution_count": null,
   "metadata": {},
   "outputs": [],
   "source": [
    "#Decide if greyscale or rgb array as input\n",
    "def is_greyscale_array(array):\n",
    "    if(len(array.shape) == 2):\n",
    "        return True\n",
    "    else:\n",
    "        return False"
   ]
  },
  {
   "cell_type": "markdown",
   "metadata": {},
   "source": [
    "Η συναρτηση που υπολογιζει την αντικειμενικη otsu:"
   ]
  },
  {
   "cell_type": "code",
   "execution_count": null,
   "metadata": {},
   "outputs": [],
   "source": [
    "def ypologise_antikeimeniki_otsu(A, k):\n",
    "    pixels_tmima1 = A[A < k]\n",
    "    pixels_tmima2 = A[A >=k]\n",
    "    mu1 = np.mean(pixels_tmima1)\n",
    "    mu2 = np.mean(pixels_tmima2)\n",
    "    mu_synoliko = np.mean(A.flatten())\n",
    "    pi1 = len(pixels_tmima1) / (len(pixels_tmima1) + len(pixels_tmima2))\n",
    "    pi2 = len(pixels_tmima2) / (len(pixels_tmima1) + len(pixels_tmima2))\n",
    "    antikeimeniki_synartisi = pi1 * (mu1 - mu_synoliko)**2 + pi2 * (mu2 - mu_synoliko)**2\n",
    "    return(antikeimeniki_synartisi)"
   ]
  },
  {
   "cell_type": "markdown",
   "metadata": {},
   "source": [
    "Αναλογα με το αποτελεσμα της *is_greyscale_array* αλλαζει η *otsu_thresholder*"
   ]
  },
  {
   "cell_type": "code",
   "execution_count": null,
   "metadata": {},
   "outputs": [],
   "source": [
    "def otsu_thresholder(image):\n",
    "    kalytero_katwfli = 0\n",
    "    kalyterh_timi = 0\n",
    "    for i in range(1, 256):\n",
    "        obj_otsu = ypologise_antikeimeniki_otsu(cropped_array, i)\n",
    "        if(obj_otsu > kalyterh_timi):\n",
    "            kalytero_katwfli = i \n",
    "            kalyterh_timi = obj_otsu\n",
    "    if (is_greyscale_array(cropped_array)):\n",
    "        res = katwfliwsh_eikonas(image, kalytero_katwfli)\n",
    "    else:\n",
    "        res = katwfliwsh_eikonas_rgb(image, kalytero_katwfli)        \n",
    "\n",
    "    return(res)"
   ]
  },
  {
   "cell_type": "markdown",
   "metadata": {},
   "source": [
    "Οι κατωφλιωσεις αναλογα με την μορφη της εικονας:"
   ]
  },
  {
   "cell_type": "code",
   "execution_count": null,
   "metadata": {},
   "outputs": [],
   "source": [
    "#greyscale\n",
    "def katwfliwsh_eikonas(image, threshold):\n",
    "    res = np.zeros_like(image)\n",
    "    res[image < threshold] = 0\n",
    "    res[image >=threshold] = 255\n",
    "    return( np.uint8(res) )\n",
    "\n",
    "#rgb\n",
    "def katwfliwsh_eikonas_rgb(image, threshold):\n",
    "    for i in range(len(image)):\n",
    "        for j in range(len(image[i])):\n",
    "            rgb = image[i][j] \n",
    "            red = rgb[0]\n",
    "            green = rgb[1]\n",
    "            blue=rgb[2]\n",
    "            #The average color\n",
    "            average=((int(red))+(int(green))+(int(blue)))/3\n",
    "            if average>threshold:\n",
    "                image[i][j]=255\n",
    "                return (np.uint8(image))\n",
    "            else:\n",
    "                image[i][j]=0\n",
    "                return (np.uint8(image))"
   ]
  },
  {
   "cell_type": "markdown",
   "metadata": {},
   "source": [
    "Παρακατω κοβουμε την εικονα σε μικροτερες εικονες, εφαρμοζουμε την *otsu_thresholder* στις επιμερους εικονες και στη συνεχεια τις επανασυναρμολογουμε για να φτιαξουμε την αρχικη. Τελος εμφανιζουμε και σωζουμε την τελικη εικονα."
   ]
  },
  {
   "cell_type": "code",
   "execution_count": null,
   "metadata": {},
   "outputs": [],
   "source": [
    "#Crop image into smaller ones, apply otsus thresholding\n",
    "#And rebuild the original image from the crops\n",
    "for j in range(0,j_increment):\n",
    "     for i in range(0,i_increment):\n",
    "         wi = window_size*i\n",
    "         wj = window_size*j\n",
    "         wi_plus = wi + window_size\n",
    "         wj_plus = wj + window_size  \n",
    "         #bigger than the whole image\n",
    "         if (wi_plus > width):\n",
    "             wi_plus = width\n",
    "         if (wj_plus > height):\n",
    "             wj_plus = height\n",
    "         #the area to crop           \n",
    "         area = (wi, wj, wi_plus, wj_plus)\n",
    "         cropped_img = input_image.crop(area)\n",
    "         cropped_array = np.array(cropped_img)\n",
    "         \n",
    "         A_otsu = otsu_thresholder(cropped_array)\n",
    "         images_cropped.append(A_otsu)\n",
    "        \n",
    "if (is_greyscale_array(cropped_array)): # greyscale\n",
    "    print(\"It's greyscale\")\n",
    "    for x in images_cropped:\n",
    "        images.append(Image.fromarray(x,'L'))\n",
    "    new_im = Image.new('L', (width,height))    \n",
    "else: #rgb\n",
    "    print(\"It's RGB\")\n",
    "    for x in images_cropped:\n",
    "        images.append(Image.fromarray(x,'RGBA'))\n",
    "    new_im = Image.new('L', (width,height))    \n",
    "\n",
    "#Rebuild the final image\n",
    "i=0\n",
    "for x in range(0,j_increment):\n",
    "    for y in range(0,i_increment):\n",
    "        new_im.paste(images[i], (y*window_size, x*window_size))\n",
    "        i+=1\n",
    "\n",
    "#Show and save\n",
    "new_im.show()      \n",
    "new_im.save(out_image)       "
   ]
  }
 ],
 "metadata": {
  "kernelspec": {
   "display_name": "Python 3",
   "language": "python",
   "name": "python3"
  },
  "language_info": {
   "codemirror_mode": {
    "name": "ipython",
    "version": 3
   },
   "file_extension": ".py",
   "mimetype": "text/x-python",
   "name": "python",
   "nbconvert_exporter": "python",
   "pygments_lexer": "ipython3",
   "version": "3.7.7"
  }
 },
 "nbformat": 4,
 "nbformat_minor": 4
}
