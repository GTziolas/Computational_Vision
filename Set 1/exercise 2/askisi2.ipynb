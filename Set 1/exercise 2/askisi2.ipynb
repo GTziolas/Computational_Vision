{
 "cells": [
  {
   "cell_type": "markdown",
   "metadata": {},
   "source": [
    "Στην άσκηση 2 μας δίνεται μια φωτογραφία και ζητείται να γίνει αφινικός μετασχηματισμός της σύμφωνα με το input του χρήστη. Η είσοδος είναι οι μεταβλητές a1-a6 του αφινικού μετασχηματισμού και διαμορφώνουν τον πίνακα μετασχηματισμού"
   ]
  },
  {
   "cell_type": "markdown",
   "metadata": {},
   "source": [
    "Ξεκινάμε με τα import που θα χρειαστούμε"
   ]
  },
  {
   "cell_type": "code",
   "execution_count": null,
   "metadata": {},
   "outputs": [],
   "source": [
    "from PIL import Image\n",
    "import sys\n",
    "import numpy as np\n",
    "from IPython.display import display,Image as jupyter"
   ]
  },
  {
   "cell_type": "markdown",
   "metadata": {},
   "source": [
    "Στη συνέχεια κατασκευάζουμε την κύρια συνάρτηση που κάνει τον μετασχηματισμό σύμφωνα με τα a1-a6"
   ]
  },
  {
   "cell_type": "code",
   "execution_count": null,
   "metadata": {},
   "outputs": [],
   "source": [
    "def transform(array, a1, a2, a3, a4, a5, a6):    \n",
    "    rows = array.shape[0]\n",
    "    cols = array.shape[1]\n",
    "    #This new array will be the representation of the new picture\n",
    "    new_array = np.zeros((rows,cols))\n",
    "    \n",
    "    for r in range(0,rows):\n",
    "        for c in range(0,cols):\n",
    "            x = r-(rows/2)\n",
    "            y= c-(cols/2)\n",
    "            xx = (a1*x)+(a2*y)+a3 \n",
    "            yy = (a4*x)+(a5*y)+a6\n",
    "            rounded_new_rows = round(xx + (rows/2))\n",
    "            rounded_new_cols = round(yy + (cols/2))\n",
    "            \n",
    "            if(rounded_new_rows>=0 and rounded_new_rows<rows and rounded_new_cols>=0 and rounded_new_cols<cols):\n",
    "                new_array[r][c]=array[rounded_new_rows][rounded_new_cols]\n",
    "    return new_array"
   ]
  },
  {
   "cell_type": "markdown",
   "metadata": {},
   "source": [
    "Το input είναι στο argv[1]"
   ]
  },
  {
   "cell_type": "code",
   "execution_count": null,
   "metadata": {},
   "outputs": [],
   "source": [
    "#input image argv[1]\n",
    "image_array = np.array(Image.open(sys.argv[1]))"
   ]
  },
  {
   "cell_type": "markdown",
   "metadata": {},
   "source": [
    "Τα a1-a6:"
   ]
  },
  {
   "cell_type": "code",
   "execution_count": null,
   "metadata": {},
   "outputs": [],
   "source": [
    "#inputs: argv[3] to argv[8] = a1 to a6\n",
    "a1 = float(sys.argv[3])\n",
    "a2 = float(sys.argv[4])\n",
    "a3 = float(sys.argv[5])\n",
    "a4 = float(sys.argv[6])\n",
    "a5 = float(sys.argv[7])\n",
    "a6 = float(sys.argv[8])"
   ]
  },
  {
   "cell_type": "markdown",
   "metadata": {},
   "source": [
    "Εκτελούμε τον μετασχηματισμό:"
   ]
  },
  {
   "cell_type": "code",
   "execution_count": null,
   "metadata": {},
   "outputs": [],
   "source": [
    "#Execute transform\n",
    "new_array = transform(image_array, a1, a2, a3, a4, a5, a6)\n",
    "#Create final image from modified array\n",
    "final_image = Image.fromarray(new_array)\n",
    "display(jupyter(filename=sys.argv[2]))"
   ]
  },
  {
   "cell_type": "markdown",
   "metadata": {},
   "source": [
    "Αποθήκευση:"
   ]
  },
  {
   "cell_type": "code",
   "execution_count": null,
   "metadata": {},
   "outputs": [],
   "source": [
    "#Convert to png writable \n",
    "final_image = final_image.convert(\"L\")\n",
    "#argv[2] is the output file\n",
    "final_image.save(sys.argv[2])"
   ]
  }
 ],
 "metadata": {
  "kernelspec": {
   "display_name": "Python 3",
   "language": "python",
   "name": "python3"
  },
  "language_info": {
   "codemirror_mode": {
    "name": "ipython",
    "version": 3
   },
   "file_extension": ".py",
   "mimetype": "text/x-python",
   "name": "python",
   "nbconvert_exporter": "python",
   "pygments_lexer": "ipython3",
   "version": "3.7.7"
  }
 },
 "nbformat": 4,
 "nbformat_minor": 4
}
