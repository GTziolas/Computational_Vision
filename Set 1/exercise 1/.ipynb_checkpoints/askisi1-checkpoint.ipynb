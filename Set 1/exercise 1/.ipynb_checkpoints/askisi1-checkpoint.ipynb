{
 "cells": [
  {
   "cell_type": "markdown",
   "metadata": {},
   "source": [
    "Askisi1.py\n",
    "\n",
    "Στην πρώτη άσκηση μας ζητείται να εφαρμόσουμε τον αλγόριθμο κατωφλίωσης στην φωτογραφία που μας δίνεται. Θα πρέπει το πρόγραμμα να λειτουργεί για grayscale και rgb φωτογραφίες."
   ]
  },
  {
   "cell_type": "markdown",
   "metadata": {},
   "source": [
    "Αρχικά τα imports που θα χρειαστούμε:"
   ]
  },
  {
   "cell_type": "code",
   "execution_count": 11,
   "metadata": {},
   "outputs": [],
   "source": [
    "from PIL import Image\n",
    "import sys\n",
    "from IPython.display import display,Image as jupyter\n",
    "import numpy as np"
   ]
  },
  {
   "cell_type": "markdown",
   "metadata": {},
   "source": [
    "Το πρόγραμμα τρέχει με ορίσματα: την εικόνα εισόδου"
   ]
  },
  {
   "cell_type": "code",
   "execution_count": null,
   "metadata": {},
   "outputs": [],
   "source": [
    "#argv[1] is the input photo\n",
    "image = Image.open(sys.argv[1])"
   ]
  },
  {
   "cell_type": "markdown",
   "metadata": {},
   "source": [
    "Την τιμή κατωφλίωσης:"
   ]
  },
  {
   "cell_type": "code",
   "execution_count": null,
   "metadata": {},
   "outputs": [],
   "source": [
    "#argv[3] is the threshold\n",
    "threshold = int(sys.argv[3])"
   ]
  },
  {
   "cell_type": "markdown",
   "metadata": {},
   "source": [
    "Και στο τέλος του κώδικα το αρχείο εξόδου ως argv[2]."
   ]
  },
  {
   "cell_type": "markdown",
   "metadata": {},
   "source": [
    "Η συνάρτηση που υπολογίζει τον πίνακα που αντιπροσωπεύει την νέα κατωφλιωμένη εικόνα, αν αυτή ήταν σε grayscale:"
   ]
  },
  {
   "cell_type": "code",
   "execution_count": null,
   "metadata": {},
   "outputs": [],
   "source": [
    "#For the grayscale images\n",
    "def grayscale_image(array): \n",
    "    for i in range(len(array)):\n",
    "        for j in range(len(array[i])):\n",
    "            if array[i][j]>threshold:\n",
    "                array[i][j]=255\n",
    "            else:\n",
    "                array[i][j]=0"
   ]
  },
  {
   "cell_type": "markdown",
   "metadata": {},
   "source": [
    "Η συνάρτηση που υπολογίζει τον πίνακα που αντιπροσωπεύει την νέα κατωφλιωμένη εικόνα, αν αυτή ήταν σε grayscale:"
   ]
  },
  {
   "cell_type": "code",
   "execution_count": null,
   "metadata": {},
   "outputs": [],
   "source": [
    "#For the rgb images                                      \n",
    "def rgb_image(array):\n",
    "    for i in range(len(array)):\n",
    "        for j in range(len(array[i])):\n",
    "            rgb = array[i][j] \n",
    "            red = rgb[0]\n",
    "            green = rgb[1]\n",
    "            blue=rgb[2]\n",
    "            #The average color\n",
    "            average=((int(red))+(int(green))+(int(blue)))/3\n",
    "            if average>threshold:\n",
    "                array[i][j]=255\n",
    "            else:\n",
    "                array[i][j]=0"
   ]
  },
  {
   "cell_type": "markdown",
   "metadata": {},
   "source": [
    "Μετατροπή της εικόνας σε array με την numpy και εκτύπωση πληροφοριών φωτογραφίας."
   ]
  },
  {
   "cell_type": "code",
   "execution_count": null,
   "metadata": {},
   "outputs": [],
   "source": [
    "#Convert image to array\n",
    "image_to_array = np.asarray(image)  \n",
    "img_cp = image_to_array.copy() \n",
    "#Get details of the image\n",
    "print('Shape of image is:',img_cp.shape)\n",
    "print('The threshold is :',threshold)\n",
    "print('Doing the work!')  "
   ]
  },
  {
   "cell_type": "markdown",
   "metadata": {},
   "source": [
    "Τρέχουμε rgb_image αν η εικόνα είναι rgb αλλιώς grayscale_image"
   ]
  },
  {
   "cell_type": "code",
   "execution_count": null,
   "metadata": {},
   "outputs": [],
   "source": [
    "#Images that have 3 dimensions are rgb and 2 dimensions are grayscale\n",
    "if (len(img_cp.shape)==3):\n",
    "    print('Image is rgb')\n",
    "    rgb_image(img_cp)\n",
    "else:\n",
    "    grayscale_image(img_cp)\n",
    "    print('Image is grayscale') "
   ]
  },
  {
   "cell_type": "markdown",
   "metadata": {},
   "source": [
    "Πίσω από πίνακα σε εικόνα και αποθηκεύουμε στο argv[2]. Επίσης εμφανίζουμε την φωτογραφία στο jupyter notepad."
   ]
  },
  {
   "cell_type": "code",
   "execution_count": null,
   "metadata": {},
   "outputs": [],
   "source": [
    "#From processed array to image        \n",
    "final_image=Image.fromarray(img_cp)\n",
    "#Save it with name argv[2]\n",
    "final_image.save(sys.argv[2])\n",
    "final_image.show()\n",
    "display(jupyter(filename=sys.argv[2]))"
   ]
  }
 ],
 "metadata": {
  "kernelspec": {
   "display_name": "Python 3",
   "language": "python",
   "name": "python3"
  },
  "language_info": {
   "codemirror_mode": {
    "name": "ipython",
    "version": 3
   },
   "file_extension": ".py",
   "mimetype": "text/x-python",
   "name": "python",
   "nbconvert_exporter": "python",
   "pygments_lexer": "ipython3",
   "version": "3.7.7"
  }
 },
 "nbformat": 4,
 "nbformat_minor": 4
}
